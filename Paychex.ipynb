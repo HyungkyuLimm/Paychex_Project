{
 "cells": [
  {
   "cell_type": "code",
   "execution_count": 1,
   "metadata": {},
   "outputs": [],
   "source": [
    "import pickle\n",
    "import random\n",
    "import pandas as pd \n",
    "import time\n",
    "from scipy import sparse\n",
    "import numpy as np\n",
    "from past.builtins import xrange\n",
    "pd.set_option('display.max_columns', 100)\n",
    "from kmodes.kmodes import KModes\n",
    "import warnings\n",
    "warnings.filterwarnings(\"ignore\", category=DeprecationWarning)\n",
    "from sklearn.preprocessing import MinMaxScaler\n",
    "import implicit\n",
    "import ml_metrics as metrics\n",
    "import recmetrics as rec\n",
    "from matplotlib import pyplot as plt\n",
    "%matplotlib inline\n",
    "import seaborn as sns\n",
    "from sklearn.metrics import average_precision_score"
   ]
  },
  {
   "cell_type": "code",
   "execution_count": 2,
   "metadata": {},
   "outputs": [],
   "source": [
    "df = pd.read_csv('clustering.csv', index_col =0 )\n",
    "df1 = df.copy()\n",
    "df1 = df.drop('Client_Id',1)"
   ]
  },
  {
   "cell_type": "markdown",
   "metadata": {},
   "source": [
    "# Run the KModes Algorithm"
   ]
  },
  {
   "cell_type": "code",
   "execution_count": null,
   "metadata": {},
   "outputs": [],
   "source": [
    "km_huang = KModes(n_clusters=6, init = \"Huang\", n_init = 1)\n",
    "fitClusters_huang = km_huang.fit_predict(df1)\n",
    "fitClusters_huang"
   ]
  },
  {
   "cell_type": "markdown",
   "metadata": {},
   "source": [
    "# Modify dataframe to include cluster membership"
   ]
  },
  {
   "cell_type": "code",
   "execution_count": 3,
   "metadata": {},
   "outputs": [],
   "source": [
    "# load clusters from saved file and save to column\n",
    "clusters_fit = pickle.load(open( \"clusters.p\", \"rb\" ))\n",
    "df['group'] = clusters_fit\n",
    "\n",
    "# re-load data and drop user features\n",
    "data = pd.read_csv('PAYX_dataset_2019Fall.csv')\n",
    "data = data.drop('Rep.Level',1)\n",
    "data= data.drop('Size',1)\n",
    "data = data.drop('Industry',1)\n",
    "\n",
    "# re-index the data\n",
    "data = data.reindex(sorted(data.columns), axis=1)\n",
    "client_id = data['Client_Id']\n",
    "data.drop(labels=['Client_Id'], axis=1,inplace = True)\n",
    "data.insert(0, 'Client_Id', client_id)\n",
    "\n",
    "# merge the two dataframes\n",
    "new_df = pd.merge(data, df, on='Client_Id')\n",
    "\n",
    "# reorder the columns\n",
    "new_df = new_df.drop(new_df.columns[41:64],1)\n",
    "new_df= new_df[['Client_Id','group', 'A1', 'A2', 'A3', 'A4', 'A5', 'A6', 'A7', 'A8', 'A9', 'B1',\n",
    "       'B2', 'B3', 'B4', 'B5', 'B6', 'C1', 'C2', 'C3', 'C5', 'C6', 'C7', 'D1',\n",
    "       'D2', 'D3', 'D4', 'E1', 'E10', 'E11', 'E12', 'E13', 'E2', 'E3', 'E4',\n",
    "       'E5', 'E6', 'E7', 'E8', 'E9', 'F1', 'F2']]"
   ]
  },
  {
   "cell_type": "markdown",
   "metadata": {},
   "source": [
    "# Subset the data by group membership"
   ]
  },
  {
   "cell_type": "code",
   "execution_count": 4,
   "metadata": {},
   "outputs": [],
   "source": [
    "group1 = new_df.loc[new_df['group']==0]\n",
    "group2 = new_df.loc[new_df['group']==1]\n",
    "group3 = new_df.loc[new_df['group']==2]\n",
    "group4 = new_df.loc[new_df['group']==3]\n",
    "group5 = new_df.loc[new_df['group']==4]\n",
    "group6 = new_df.loc[new_df['group']==5]"
   ]
  },
  {
   "cell_type": "code",
   "execution_count": 5,
   "metadata": {},
   "outputs": [
    {
     "name": "stdout",
     "output_type": "stream",
     "text": [
      "Cluster 1 has 127193 clients\n",
      "Cluster 2 has 49057 clients\n",
      "Cluster 3 has 46505 clients\n",
      "Cluster 4 has 72702 clients\n",
      "Cluster 5 has 30945 clients\n",
      "Cluster 6 has 56123 clients\n"
     ]
    }
   ],
   "source": [
    "print(\"Cluster 1 has {} clients\".format(len(group1)))\n",
    "print(\"Cluster 2 has {} clients\".format(len(group2)))\n",
    "print(\"Cluster 3 has {} clients\".format(len(group3)))\n",
    "print(\"Cluster 4 has {} clients\".format(len(group4)))\n",
    "print(\"Cluster 5 has {} clients\".format(len(group5)))\n",
    "print(\"Cluster 6 has {} clients\".format(len(group6)))"
   ]
  },
  {
   "cell_type": "markdown",
   "metadata": {},
   "source": [
    "# Make dataframe for each cluster"
   ]
  },
  {
   "cell_type": "code",
   "execution_count": 53,
   "metadata": {},
   "outputs": [],
   "source": [
    "# create a new copy of the dataframe to store high-level product categories\n",
    "df_high = group1.copy()\n",
    "\n",
    "df_high['A'] = group1[['A1', 'A2', 'A3', 'A4', 'A5', 'A6', 'A7', 'A8', 'A9']].sum(axis=1)\n",
    "df_high['B'] = group1[['B1', 'B2', 'B3', 'B4', 'B5', 'B6']].sum(axis=1)\n",
    "df_high['C'] = group1[['C1', 'C2', 'C3', 'C5', 'C6', 'C7']].sum(axis=1)\n",
    "df_high['D'] = group1[['D1', 'D2', 'D3', 'D4']].sum(axis=1)\n",
    "df_high['E'] = group1[['E1', 'E2', 'E3', 'E4', 'E5', 'E6', 'E7', 'E8', 'E9', 'E10', 'E11', 'E12', 'E13']].sum(axis=1)\n",
    "df_high['F'] = group1[['F1', 'F2']].sum(axis=1)\n",
    "\n",
    "# drop all sub-level product categories from the copy\n",
    "df_high.drop(columns=['A1', 'A2', 'A3', 'A4', 'A5', 'A6', 'A7', 'A8', 'A9',\n",
    "                      'B1', 'B2', 'B3', 'B4', 'B5', 'B6', 'C1', 'C2', 'C3',\n",
    "                      'C5', 'C6', 'C7', 'D1', 'D2', 'D3', 'D4','E1', 'E2',\n",
    "                      'E3', 'E4', 'E5', 'E6', 'E7', 'E8', 'E9', 'E10', 'E11', 'E12',\n",
    "                      'E13', 'F1', 'F2'], inplace=True)"
   ]
  },
  {
   "cell_type": "code",
   "execution_count": 73,
   "metadata": {},
   "outputs": [],
   "source": [
    "# create a new copy of the dataframe to store high-level product categories\n",
    "df_high = group2.copy()\n",
    "\n",
    "df_high['A'] = group2[['A1', 'A2', 'A3', 'A4', 'A5', 'A6', 'A7', 'A8', 'A9']].sum(axis=1)\n",
    "df_high['B'] = group2[['B1', 'B2', 'B3', 'B4', 'B5', 'B6']].sum(axis=1)\n",
    "df_high['C'] = group2[['C1', 'C2', 'C3', 'C5', 'C6', 'C7']].sum(axis=1)\n",
    "df_high['D'] = group2[['D1', 'D2', 'D3', 'D4']].sum(axis=1)\n",
    "df_high['E'] = group2[['E1', 'E2', 'E3', 'E4', 'E5', 'E6', 'E7', 'E8', 'E9', 'E10', 'E11', 'E12', 'E13']].sum(axis=1)\n",
    "df_high['F'] = group2[['F1', 'F2']].sum(axis=1)\n",
    "\n",
    "# drop all sub-level product categories from the copy\n",
    "df_high.drop(columns=['A1', 'A2', 'A3', 'A4', 'A5', 'A6', 'A7', 'A8', 'A9',\n",
    "                      'B1', 'B2', 'B3', 'B4', 'B5', 'B6', 'C1', 'C2', 'C3',\n",
    "                      'C5', 'C6', 'C7', 'D1', 'D2', 'D3', 'D4','E1', 'E2',\n",
    "                      'E3', 'E4', 'E5', 'E6', 'E7', 'E8', 'E9', 'E10', 'E11', 'E12',\n",
    "                      'E13', 'F1', 'F2'], inplace=True)"
   ]
  },
  {
   "cell_type": "code",
   "execution_count": 93,
   "metadata": {},
   "outputs": [],
   "source": [
    "# create a new copy of the dataframe to store high-level product categories\n",
    "df_high = group3.copy()\n",
    "\n",
    "df_high['A'] = group3[['A1', 'A2', 'A3', 'A4', 'A5', 'A6', 'A7', 'A8', 'A9']].sum(axis=1)\n",
    "df_high['B'] = group3[['B1', 'B2', 'B3', 'B4', 'B5', 'B6']].sum(axis=1)\n",
    "df_high['C'] = group3[['C1', 'C2', 'C3', 'C5', 'C6', 'C7']].sum(axis=1)\n",
    "df_high['D'] = group3[['D1', 'D2', 'D3', 'D4']].sum(axis=1)\n",
    "df_high['E'] = group3[['E1', 'E2', 'E3', 'E4', 'E5', 'E6', 'E7', 'E8', 'E9', 'E10', 'E11', 'E12', 'E13']].sum(axis=1)\n",
    "df_high['F'] = group3[['F1', 'F2']].sum(axis=1)\n",
    "\n",
    "# drop all sub-level product categories from the copy\n",
    "df_high.drop(columns=['A1', 'A2', 'A3', 'A4', 'A5', 'A6', 'A7', 'A8', 'A9',\n",
    "                      'B1', 'B2', 'B3', 'B4', 'B5', 'B6', 'C1', 'C2', 'C3',\n",
    "                      'C5', 'C6', 'C7', 'D1', 'D2', 'D3', 'D4','E1', 'E2',\n",
    "                      'E3', 'E4', 'E5', 'E6', 'E7', 'E8', 'E9', 'E10', 'E11', 'E12',\n",
    "                      'E13', 'F1', 'F2'], inplace=True)"
   ]
  },
  {
   "cell_type": "code",
   "execution_count": 113,
   "metadata": {},
   "outputs": [],
   "source": [
    "# create a new copy of the dataframe to store high-level product categories\n",
    "df_high = group4.copy()\n",
    "\n",
    "df_high['A'] = group4[['A1', 'A2', 'A3', 'A4', 'A5', 'A6', 'A7', 'A8', 'A9']].sum(axis=1)\n",
    "df_high['B'] = group4[['B1', 'B2', 'B3', 'B4', 'B5', 'B6']].sum(axis=1)\n",
    "df_high['C'] = group4[['C1', 'C2', 'C3', 'C5', 'C6', 'C7']].sum(axis=1)\n",
    "df_high['D'] = group4[['D1', 'D2', 'D3', 'D4']].sum(axis=1)\n",
    "df_high['E'] = group4[['E1', 'E2', 'E3', 'E4', 'E5', 'E6', 'E7', 'E8', 'E9', 'E10', 'E11', 'E12', 'E13']].sum(axis=1)\n",
    "df_high['F'] = group4[['F1', 'F2']].sum(axis=1)\n",
    "\n",
    "# drop all sub-level product categories from the copy\n",
    "df_high.drop(columns=['A1', 'A2', 'A3', 'A4', 'A5', 'A6', 'A7', 'A8', 'A9',\n",
    "                      'B1', 'B2', 'B3', 'B4', 'B5', 'B6', 'C1', 'C2', 'C3',\n",
    "                      'C5', 'C6', 'C7', 'D1', 'D2', 'D3', 'D4','E1', 'E2',\n",
    "                      'E3', 'E4', 'E5', 'E6', 'E7', 'E8', 'E9', 'E10', 'E11', 'E12',\n",
    "                      'E13', 'F1', 'F2'], inplace=True)"
   ]
  },
  {
   "cell_type": "code",
   "execution_count": 133,
   "metadata": {},
   "outputs": [],
   "source": [
    "# create a new copy of the dataframe to store high-level product categories\n",
    "df_high = group5.copy()\n",
    "\n",
    "df_high['A'] = group5[['A1', 'A2', 'A3', 'A4', 'A5', 'A6', 'A7', 'A8', 'A9']].sum(axis=1)\n",
    "df_high['B'] = group5[['B1', 'B2', 'B3', 'B4', 'B5', 'B6']].sum(axis=1)\n",
    "df_high['C'] = group5[['C1', 'C2', 'C3', 'C5', 'C6', 'C7']].sum(axis=1)\n",
    "df_high['D'] = group5[['D1', 'D2', 'D3', 'D4']].sum(axis=1)\n",
    "df_high['E'] = group5[['E1', 'E2', 'E3', 'E4', 'E5', 'E6', 'E7', 'E8', 'E9', 'E10', 'E11', 'E12', 'E13']].sum(axis=1)\n",
    "df_high['F'] = group5[['F1', 'F2']].sum(axis=1)\n",
    "\n",
    "# drop all sub-level product categories from the copy\n",
    "df_high.drop(columns=['A1', 'A2', 'A3', 'A4', 'A5', 'A6', 'A7', 'A8', 'A9',\n",
    "                      'B1', 'B2', 'B3', 'B4', 'B5', 'B6', 'C1', 'C2', 'C3',\n",
    "                      'C5', 'C6', 'C7', 'D1', 'D2', 'D3', 'D4','E1', 'E2',\n",
    "                      'E3', 'E4', 'E5', 'E6', 'E7', 'E8', 'E9', 'E10', 'E11', 'E12',\n",
    "                      'E13', 'F1', 'F2'], inplace=True)"
   ]
  },
  {
   "cell_type": "code",
   "execution_count": 153,
   "metadata": {},
   "outputs": [],
   "source": [
    "# create a new copy of the dataframe to store high-level product categories\n",
    "df_high = group6.copy()\n",
    "\n",
    "df_high['A'] = group6[['A1', 'A2', 'A3', 'A4', 'A5', 'A6', 'A7', 'A8', 'A9']].sum(axis=1)\n",
    "df_high['B'] = group6[['B1', 'B2', 'B3', 'B4', 'B5', 'B6']].sum(axis=1)\n",
    "df_high['C'] = group6[['C1', 'C2', 'C3', 'C5', 'C6', 'C7']].sum(axis=1)\n",
    "df_high['D'] = group6[['D1', 'D2', 'D3', 'D4']].sum(axis=1)\n",
    "df_high['E'] = group6[['E1', 'E2', 'E3', 'E4', 'E5', 'E6', 'E7', 'E8', 'E9', 'E10', 'E11', 'E12', 'E13']].sum(axis=1)\n",
    "df_high['F'] = group6[['F1', 'F2']].sum(axis=1)\n",
    "\n",
    "# drop all sub-level product categories from the copy\n",
    "df_high.drop(columns=['A1', 'A2', 'A3', 'A4', 'A5', 'A6', 'A7', 'A8', 'A9',\n",
    "                      'B1', 'B2', 'B3', 'B4', 'B5', 'B6', 'C1', 'C2', 'C3',\n",
    "                      'C5', 'C6', 'C7', 'D1', 'D2', 'D3', 'D4','E1', 'E2',\n",
    "                      'E3', 'E4', 'E5', 'E6', 'E7', 'E8', 'E9', 'E10', 'E11', 'E12',\n",
    "                      'E13', 'F1', 'F2'], inplace=True)"
   ]
  },
  {
   "cell_type": "code",
   "execution_count": 154,
   "metadata": {},
   "outputs": [],
   "source": [
    "product_category = []\n",
    "ID_2 = []\n",
    "quantity = []\n",
    "\n",
    "ID = list(df_high['Client_Id'])\n",
    "A = list(df_high['A'])\n",
    "B = list(df_high['B'])\n",
    "C = list(df_high['C'])\n",
    "D = list(df_high['D'])\n",
    "E = list(df_high['E'])\n",
    "F = list(df_high['F'])\n",
    "\n",
    "for i in range(len(ID)):\n",
    "    if A[i] != 0:\n",
    "        product_category.append('A')\n",
    "        quantity.append(A[i])\n",
    "        ID_2.append(ID[i])\n",
    "    if B[i] != 0:\n",
    "        product_category.append('B')\n",
    "        quantity.append(B[i])\n",
    "        ID_2.append(ID[i])\n",
    "    if C[i] != 0:\n",
    "        product_category.append('C')\n",
    "        quantity.append(C[i])\n",
    "        ID_2.append(ID[i])\n",
    "    if D[i] != 0:\n",
    "        product_category.append('D')\n",
    "        quantity.append(D[i])\n",
    "        ID_2.append(ID[i])\n",
    "    if E[i] != 0:\n",
    "        product_category.append('E')\n",
    "        quantity.append(E[i])\n",
    "        ID_2.append(ID[i])\n",
    "    if F[i] != 0:\n",
    "        product_category.append('F')\n",
    "        quantity.append(F[i])\n",
    "        ID_2.append(ID[i])\n",
    "        \n",
    "df_items = pd.DataFrame()\n",
    "df_items['Client_Id'] = ID_2\n",
    "df_items['Category'] = product_category\n",
    "df_items['Quantity'] = quantity"
   ]
  },
  {
   "cell_type": "markdown",
   "metadata": {},
   "source": [
    "# Generate the sparse matrix"
   ]
  },
  {
   "cell_type": "code",
   "execution_count": 155,
   "metadata": {},
   "outputs": [
    {
     "data": {
      "text/plain": [
       "68.43105041585378"
      ]
     },
     "execution_count": 155,
     "metadata": {},
     "output_type": "execute_result"
    }
   ],
   "source": [
    "df_items['Client_Id'] = df_items.Client_Id.astype(int) # Convert to int for customer ID\n",
    "df_items = df_items.groupby(['Client_Id', 'Category']).sum().reset_index() # Group together\n",
    "customers = list(np.sort(df_items.Client_Id.unique())) # Get our unique customers\n",
    "products = list(df_items.Category.unique()) # Get our unique products that were purchased\n",
    "quantity = list(df_items.Quantity) # All of our purchases\n",
    "rows = df_items.Client_Id.astype('category').cat.codes \n",
    "# Get the associated row indices\n",
    "cols = df_items.Category.astype('category').cat.codes \n",
    "# Get the associated column indices\n",
    "purchases_sparse = sparse.csr_matrix((quantity, (rows, cols)), shape=(len(customers), len(products)))\n",
    "matrix_size = purchases_sparse.shape[0]*purchases_sparse.shape[1] # Number of possible interactions in the matrix\n",
    "num_purchases = len(purchases_sparse.nonzero()[0]) # Number of items interacted with\n",
    "sparsity = 100*(1 - (num_purchases/matrix_size))\n",
    "sparsity"
   ]
  },
  {
   "cell_type": "markdown",
   "metadata": {},
   "source": [
    "# Make the train set"
   ]
  },
  {
   "cell_type": "code",
   "execution_count": 156,
   "metadata": {},
   "outputs": [],
   "source": [
    "def make_train(ratings, pct_test):\n",
    "    '''\n",
    "    This function will take in the original user-item matrix and \"mask\" a percentage of the original ratings where a\n",
    "    user-item interaction has taken place for use as a test set. The test set will contain all of the original ratings, \n",
    "    while the training set replaces the specified percentage of them with a zero in the original ratings matrix. \n",
    "    \n",
    "    parameters: \n",
    "    \n",
    "    ratings - the original ratings matrix from which you want to generate a train/test set. Test is just a complete\n",
    "    copy of the original set. This is in the form of a sparse csr_matrix. \n",
    "    \n",
    "    pct_test - The percentage of user-item interactions where an interaction took place that you want to mask in the \n",
    "    training set for later comparison to the test set, which contains all of the original ratings. \n",
    "    \n",
    "    returns:\n",
    "    \n",
    "    training_set - The altered version of the original data with a certain percentage of the user-item pairs \n",
    "    that originally had interaction set back to zero.\n",
    "    \n",
    "    test_set - A copy of the original ratings matrix, unaltered, so it can be used to see how the rank order \n",
    "    compares with the actual interactions.\n",
    "    \n",
    "    user_inds - From the randomly selected user-item indices, which user rows were altered in the training data.\n",
    "    This will be necessary later when evaluating the performance via AUC.\n",
    "    '''\n",
    "    test_set = ratings.copy() # Make a copy of the original set to be the test set. \n",
    "    test_set[test_set != 0] = 1 # Store the test set as a binary preference matrix\n",
    "    training_set = ratings.copy() # Make a copy of the original data we can alter as our training set. \n",
    "    nonzero_inds = training_set.nonzero() # Find the indices in the ratings data where an interaction exists\n",
    "    nonzero_pairs = list(zip(nonzero_inds[0], nonzero_inds[1])) # Zip these pairs together of user,item index into list\n",
    "    random.seed(0) # Set the random seed to zero for reproducibility\n",
    "    num_samples = int(np.ceil(pct_test*len(nonzero_pairs))) # Round the number of samples needed to the nearest integer\n",
    "    samples = random.sample(nonzero_pairs, num_samples) # Sample a random number of user-item pairs without replacement\n",
    "    user_inds = [index[0] for index in samples] # Get the user row indices\n",
    "    item_inds = [index[1] for index in samples] # Get the item column indices\n",
    "    training_set[user_inds, item_inds] = 0 # Assign all of the randomly chosen user-item pairs to zero\n",
    "    training_set.eliminate_zeros() # Get rid of zeros in sparse array storage after update to save space\n",
    "    return training_set, test_set, list(set(user_inds)) # Output the unique list of user rows that were altered "
   ]
  },
  {
   "cell_type": "code",
   "execution_count": 157,
   "metadata": {},
   "outputs": [],
   "source": [
    "product_train, product_test, product_users_altered = make_train(purchases_sparse, pct_test = 0.2)\n",
    "product_users_altered.sort()"
   ]
  },
  {
   "cell_type": "markdown",
   "metadata": {},
   "source": [
    "# Run ALS on train set"
   ]
  },
  {
   "cell_type": "code",
   "execution_count": 158,
   "metadata": {},
   "outputs": [
    {
     "data": {
      "application/vnd.jupyter.widget-view+json": {
       "model_id": "68a0a343111c4f5c925713a582ef7e50",
       "version_major": 2,
       "version_minor": 0
      },
      "text/plain": [
       "HBox(children=(IntProgress(value=0, max=50), HTML(value='')))"
      ]
     },
     "metadata": {},
     "output_type": "display_data"
    },
    {
     "name": "stdout",
     "output_type": "stream",
     "text": [
      "\n"
     ]
    }
   ],
   "source": [
    "alpha = 15\n",
    "item_user_data = (product_train*alpha).astype('double')\n",
    "model = implicit.als.AlternatingLeastSquares(factors=20, regularization = 0.1, iterations = 50)\n",
    "model.fit(item_user_data.T)\n",
    "user_vecs = model.user_factors\n",
    "item_vecs = model.item_factors\n",
    "customers_arr = np.array(customers) # Array of customer IDs from the ratings matrix\n",
    "products_arr = np.array(products) # Array of product IDs from the ratings matrix"
   ]
  },
  {
   "cell_type": "markdown",
   "metadata": {},
   "source": [
    "# Create an item lookup table"
   ]
  },
  {
   "cell_type": "code",
   "execution_count": 159,
   "metadata": {},
   "outputs": [
    {
     "data": {
      "text/html": [
       "<div>\n",
       "<style scoped>\n",
       "    .dataframe tbody tr th:only-of-type {\n",
       "        vertical-align: middle;\n",
       "    }\n",
       "\n",
       "    .dataframe tbody tr th {\n",
       "        vertical-align: top;\n",
       "    }\n",
       "\n",
       "    .dataframe thead th {\n",
       "        text-align: right;\n",
       "    }\n",
       "</style>\n",
       "<table border=\"1\" class=\"dataframe\">\n",
       "  <thead>\n",
       "    <tr style=\"text-align: right;\">\n",
       "      <th></th>\n",
       "      <th>Category</th>\n",
       "    </tr>\n",
       "  </thead>\n",
       "  <tbody>\n",
       "    <tr>\n",
       "      <th>0</th>\n",
       "      <td>A</td>\n",
       "    </tr>\n",
       "    <tr>\n",
       "      <th>2</th>\n",
       "      <td>B</td>\n",
       "    </tr>\n",
       "    <tr>\n",
       "      <th>3</th>\n",
       "      <td>F</td>\n",
       "    </tr>\n",
       "    <tr>\n",
       "      <th>5</th>\n",
       "      <td>E</td>\n",
       "    </tr>\n",
       "    <tr>\n",
       "      <th>13</th>\n",
       "      <td>D</td>\n",
       "    </tr>\n",
       "    <tr>\n",
       "      <th>61</th>\n",
       "      <td>C</td>\n",
       "    </tr>\n",
       "  </tbody>\n",
       "</table>\n",
       "</div>"
      ],
      "text/plain": [
       "   Category\n",
       "0         A\n",
       "2         B\n",
       "3         F\n",
       "5         E\n",
       "13        D\n",
       "61        C"
      ]
     },
     "execution_count": 159,
     "metadata": {},
     "output_type": "execute_result"
    }
   ],
   "source": [
    "products_arr[0] = 'A'\n",
    "products_arr[1] = 'B'\n",
    "products_arr[2] = 'C'\n",
    "products_arr[3] = 'D'\n",
    "products_arr[4] = 'E'\n",
    "products_arr[5] = 'F'\n",
    "\n",
    "item_lookup = df_items[['Category']].drop_duplicates() # Only get unique item/description pairs\n",
    "item_lookup['Category'] = item_lookup.Category.astype(str) # Encode as strings for future lookup ease\n",
    "item_lookup"
   ]
  },
  {
   "cell_type": "code",
   "execution_count": 160,
   "metadata": {},
   "outputs": [
    {
     "data": {
      "text/html": [
       "<div>\n",
       "<style scoped>\n",
       "    .dataframe tbody tr th:only-of-type {\n",
       "        vertical-align: middle;\n",
       "    }\n",
       "\n",
       "    .dataframe tbody tr th {\n",
       "        vertical-align: top;\n",
       "    }\n",
       "\n",
       "    .dataframe thead th {\n",
       "        text-align: right;\n",
       "    }\n",
       "</style>\n",
       "<table border=\"1\" class=\"dataframe\">\n",
       "  <thead>\n",
       "    <tr style=\"text-align: right;\">\n",
       "      <th></th>\n",
       "      <th>Category</th>\n",
       "    </tr>\n",
       "  </thead>\n",
       "  <tbody>\n",
       "    <tr>\n",
       "      <th>0</th>\n",
       "      <td>A</td>\n",
       "    </tr>\n",
       "    <tr>\n",
       "      <th>1</th>\n",
       "      <td>B</td>\n",
       "    </tr>\n",
       "    <tr>\n",
       "      <th>2</th>\n",
       "      <td>C</td>\n",
       "    </tr>\n",
       "    <tr>\n",
       "      <th>3</th>\n",
       "      <td>D</td>\n",
       "    </tr>\n",
       "    <tr>\n",
       "      <th>4</th>\n",
       "      <td>E</td>\n",
       "    </tr>\n",
       "    <tr>\n",
       "      <th>5</th>\n",
       "      <td>F</td>\n",
       "    </tr>\n",
       "  </tbody>\n",
       "</table>\n",
       "</div>"
      ],
      "text/plain": [
       "  Category\n",
       "0        A\n",
       "1        B\n",
       "2        C\n",
       "3        D\n",
       "4        E\n",
       "5        F"
      ]
     },
     "execution_count": 160,
     "metadata": {},
     "output_type": "execute_result"
    }
   ],
   "source": [
    "item_lookup= item_lookup.reindex([0,2,61,13,5,3])\n",
    "item_lookup = item_lookup.reset_index(drop=True)\n",
    "item_lookup"
   ]
  },
  {
   "cell_type": "code",
   "execution_count": 161,
   "metadata": {},
   "outputs": [
    {
     "data": {
      "text/html": [
       "<div>\n",
       "<style scoped>\n",
       "    .dataframe tbody tr th:only-of-type {\n",
       "        vertical-align: middle;\n",
       "    }\n",
       "\n",
       "    .dataframe tbody tr th {\n",
       "        vertical-align: top;\n",
       "    }\n",
       "\n",
       "    .dataframe thead th {\n",
       "        text-align: right;\n",
       "    }\n",
       "</style>\n",
       "<table border=\"1\" class=\"dataframe\">\n",
       "  <thead>\n",
       "    <tr style=\"text-align: right;\">\n",
       "      <th></th>\n",
       "      <th>indexx</th>\n",
       "      <th>Category</th>\n",
       "    </tr>\n",
       "  </thead>\n",
       "  <tbody>\n",
       "    <tr>\n",
       "      <th>0</th>\n",
       "      <td>0</td>\n",
       "      <td>A</td>\n",
       "    </tr>\n",
       "    <tr>\n",
       "      <th>1</th>\n",
       "      <td>1</td>\n",
       "      <td>B</td>\n",
       "    </tr>\n",
       "    <tr>\n",
       "      <th>2</th>\n",
       "      <td>2</td>\n",
       "      <td>C</td>\n",
       "    </tr>\n",
       "    <tr>\n",
       "      <th>3</th>\n",
       "      <td>3</td>\n",
       "      <td>D</td>\n",
       "    </tr>\n",
       "    <tr>\n",
       "      <th>4</th>\n",
       "      <td>4</td>\n",
       "      <td>E</td>\n",
       "    </tr>\n",
       "    <tr>\n",
       "      <th>5</th>\n",
       "      <td>5</td>\n",
       "      <td>F</td>\n",
       "    </tr>\n",
       "  </tbody>\n",
       "</table>\n",
       "</div>"
      ],
      "text/plain": [
       "   indexx Category\n",
       "0       0        A\n",
       "1       1        B\n",
       "2       2        C\n",
       "3       3        D\n",
       "4       4        E\n",
       "5       5        F"
      ]
     },
     "execution_count": 161,
     "metadata": {},
     "output_type": "execute_result"
    }
   ],
   "source": [
    "item_lookup['indexx'] = item_lookup.index\n",
    "item_lookup = item_lookup[['indexx','Category']]\n",
    "item_lookup"
   ]
  },
  {
   "cell_type": "markdown",
   "metadata": {},
   "source": [
    "# Make function to get items purchased"
   ]
  },
  {
   "cell_type": "code",
   "execution_count": 162,
   "metadata": {},
   "outputs": [],
   "source": [
    "def get_items_purchased(customer_id, mf_train, customers_list, products_list, item_lookup):\n",
    "    '''\n",
    "    This just tells me which items have been already purchased by a specific user in the training set. \n",
    "    \n",
    "    parameters: \n",
    "    \n",
    "    customer_id - Input the customer's id number that you want to see prior purchases of at least once\n",
    "    \n",
    "    mf_train - The initial ratings training set used (without weights applied)\n",
    "    \n",
    "    customers_list - The array of customers used in the ratings matrix\n",
    "    \n",
    "    products_list - The array of products used in the ratings matrix\n",
    "    \n",
    "    item_lookup - A simple pandas dataframe of the unique product ID/product descriptions available\n",
    "    \n",
    "    returns:\n",
    "    \n",
    "    A list of item IDs and item descriptions for a particular customer that were already purchased in the training set\n",
    "    '''\n",
    "    cust_ind = np.where(customers_list == customer_id)[0][0] # Returns the index row of our customer id\n",
    "    purchased_ind = mf_train[cust_ind,:].nonzero()[1] # Get column indices of purchased items\n",
    "    prod_codes = products_list[purchased_ind] # Get the stock codes for our purchased items\n",
    "    return item_lookup.loc[item_lookup.Category.isin(prod_codes)]"
   ]
  },
  {
   "cell_type": "markdown",
   "metadata": {},
   "source": [
    "### Let's take a look at our altered customers"
   ]
  },
  {
   "cell_type": "code",
   "execution_count": 103,
   "metadata": {},
   "outputs": [
    {
     "name": "stdout",
     "output_type": "stream",
     "text": [
      "[3, 9, 13, 16, 19, 26, 28, 39, 40, 41, 46, 50, 56, 65, 66, 67, 69, 70, 73, 80]\n",
      "Customer ID # 152 was altered\n"
     ]
    }
   ],
   "source": [
    "# this tells us which user rows were altered in the training data\n",
    "altered_rows = product_users_altered[0:20]\n",
    "print(altered_rows)\n",
    "\n",
    "# now get the customer ID using the user row\n",
    "print(\"Customer ID # {} was altered\".format(customers[9]))"
   ]
  },
  {
   "cell_type": "markdown",
   "metadata": {},
   "source": [
    "### What does the training data look like for this customer"
   ]
  },
  {
   "cell_type": "code",
   "execution_count": 104,
   "metadata": {},
   "outputs": [
    {
     "data": {
      "text/html": [
       "<div>\n",
       "<style scoped>\n",
       "    .dataframe tbody tr th:only-of-type {\n",
       "        vertical-align: middle;\n",
       "    }\n",
       "\n",
       "    .dataframe tbody tr th {\n",
       "        vertical-align: top;\n",
       "    }\n",
       "\n",
       "    .dataframe thead th {\n",
       "        text-align: right;\n",
       "    }\n",
       "</style>\n",
       "<table border=\"1\" class=\"dataframe\">\n",
       "  <thead>\n",
       "    <tr style=\"text-align: right;\">\n",
       "      <th></th>\n",
       "      <th>indexx</th>\n",
       "      <th>Category</th>\n",
       "    </tr>\n",
       "  </thead>\n",
       "  <tbody>\n",
       "  </tbody>\n",
       "</table>\n",
       "</div>"
      ],
      "text/plain": [
       "Empty DataFrame\n",
       "Columns: [indexx, Category]\n",
       "Index: []"
      ]
     },
     "execution_count": 104,
     "metadata": {},
     "output_type": "execute_result"
    }
   ],
   "source": [
    "get_items_purchased(152, product_train, customers_arr, products_arr, item_lookup)"
   ]
  },
  {
   "cell_type": "markdown",
   "metadata": {},
   "source": [
    "### Now we can compare with the original data"
   ]
  },
  {
   "cell_type": "code",
   "execution_count": 105,
   "metadata": {},
   "outputs": [
    {
     "data": {
      "text/html": [
       "<div>\n",
       "<style scoped>\n",
       "    .dataframe tbody tr th:only-of-type {\n",
       "        vertical-align: middle;\n",
       "    }\n",
       "\n",
       "    .dataframe tbody tr th {\n",
       "        vertical-align: top;\n",
       "    }\n",
       "\n",
       "    .dataframe thead th {\n",
       "        text-align: right;\n",
       "    }\n",
       "</style>\n",
       "<table border=\"1\" class=\"dataframe\">\n",
       "  <thead>\n",
       "    <tr style=\"text-align: right;\">\n",
       "      <th></th>\n",
       "      <th>Client_Id</th>\n",
       "      <th>Category</th>\n",
       "      <th>Quantity</th>\n",
       "    </tr>\n",
       "  </thead>\n",
       "  <tbody>\n",
       "    <tr>\n",
       "      <th>9</th>\n",
       "      <td>152</td>\n",
       "      <td>F</td>\n",
       "      <td>1</td>\n",
       "    </tr>\n",
       "  </tbody>\n",
       "</table>\n",
       "</div>"
      ],
      "text/plain": [
       "   Client_Id Category  Quantity\n",
       "9        152        F         1"
      ]
     },
     "execution_count": 105,
     "metadata": {},
     "output_type": "execute_result"
    }
   ],
   "source": [
    "df_items.loc[df_items['Client_Id'] == 152]"
   ]
  },
  {
   "cell_type": "markdown",
   "metadata": {},
   "source": [
    "# Make function to get recomendations"
   ]
  },
  {
   "cell_type": "code",
   "execution_count": 163,
   "metadata": {},
   "outputs": [],
   "source": [
    "def rec_items(customer_id, mf_train, user_vecs, item_vecs, customer_list, item_list, item_lookup, num_items):\n",
    "    '''\n",
    "    This function will return the top recommended items to our users \n",
    "    \n",
    "    parameters:\n",
    "    \n",
    "    customer_id - Input the customer's id number that you want to get recommendations for\n",
    "    \n",
    "    mf_train - The training matrix you used for matrix factorization fitting\n",
    "    \n",
    "    user_vecs - the user vectors from your fitted matrix factorization\n",
    "    \n",
    "    item_vecs - the item vectors from your fitted matrix factorization\n",
    "    \n",
    "    customer_list - an array of the customer's ID numbers that make up the rows of your ratings matrix \n",
    "                    (in order of matrix)\n",
    "    \n",
    "    item_list - an array of the products that make up the columns of your ratings matrix\n",
    "                    (in order of matrix)\n",
    "    \n",
    "    item_lookup - A simple pandas dataframe of the unique product ID/product descriptions available\n",
    "    \n",
    "    num_items - The number of items you want to recommend in order of best recommendations. Default is 10. \n",
    "    \n",
    "    returns:\n",
    "    \n",
    "    - The top n recommendations chosen based on the user/item vectors for items never interacted with/purchased\n",
    "    '''\n",
    "    \n",
    "    cust_ind = np.where(customer_list == customer_id)[0][0] # Returns the index row of our customer id\n",
    "    pref_vec = mf_train[cust_ind,:].toarray() # Get the ratings from the training set ratings matrix\n",
    "    pref_vec = pref_vec.reshape(-1) + 1 # Add 1 to everything, so that items not purchased yet become equal to 1\n",
    "    pref_vec[pref_vec > 1] = 0 # Make everything already purchased zero\n",
    "    rec_vector = user_vecs[cust_ind,:].dot(item_vecs.T) # Get dot product of user vector and all item vectors\n",
    "    # Scale this recommendation vector between 0 and 1\n",
    "    min_max = MinMaxScaler()\n",
    "    rec_vector_scaled = min_max.fit_transform(rec_vector.reshape(-1,1))[:,0] \n",
    "    recommend_vector = pref_vec*rec_vector_scaled \n",
    "    # Items already purchased have their recommendation multiplied by zero\n",
    "    product_idx = np.argsort(recommend_vector)[::-1][:num_items] # Sort the indices of the items into order \n",
    "    # of best recommendations\n",
    "    rec_list = [] # start empty list to store items\n",
    "    for index in product_idx:\n",
    "        code = item_list[index]\n",
    "        rec_list.append([code, item_lookup.indexx.loc[item_lookup.Category == code].iloc[0]]) \n",
    "        #Append our descriptions to the list\n",
    "    \n",
    "    Category = [item[0] for item in rec_list]\n",
    "    index = [item[1] for item in rec_list]\n",
    "    final_frame = pd.DataFrame({'Product': Category, 'Index': index}) # Create a dataframe \n",
    "    return final_frame[['Index', 'Product']] # Switch order of columns"
   ]
  },
  {
   "cell_type": "markdown",
   "metadata": {},
   "source": [
    "### Now let's get recommendations for our user!"
   ]
  },
  {
   "cell_type": "code",
   "execution_count": 107,
   "metadata": {},
   "outputs": [
    {
     "data": {
      "text/html": [
       "<div>\n",
       "<style scoped>\n",
       "    .dataframe tbody tr th:only-of-type {\n",
       "        vertical-align: middle;\n",
       "    }\n",
       "\n",
       "    .dataframe tbody tr th {\n",
       "        vertical-align: top;\n",
       "    }\n",
       "\n",
       "    .dataframe thead th {\n",
       "        text-align: right;\n",
       "    }\n",
       "</style>\n",
       "<table border=\"1\" class=\"dataframe\">\n",
       "  <thead>\n",
       "    <tr style=\"text-align: right;\">\n",
       "      <th></th>\n",
       "      <th>Index</th>\n",
       "      <th>Product</th>\n",
       "    </tr>\n",
       "  </thead>\n",
       "  <tbody>\n",
       "    <tr>\n",
       "      <th>0</th>\n",
       "      <td>5</td>\n",
       "      <td>F</td>\n",
       "    </tr>\n",
       "    <tr>\n",
       "      <th>1</th>\n",
       "      <td>4</td>\n",
       "      <td>E</td>\n",
       "    </tr>\n",
       "    <tr>\n",
       "      <th>2</th>\n",
       "      <td>3</td>\n",
       "      <td>D</td>\n",
       "    </tr>\n",
       "    <tr>\n",
       "      <th>3</th>\n",
       "      <td>2</td>\n",
       "      <td>C</td>\n",
       "    </tr>\n",
       "    <tr>\n",
       "      <th>4</th>\n",
       "      <td>1</td>\n",
       "      <td>B</td>\n",
       "    </tr>\n",
       "  </tbody>\n",
       "</table>\n",
       "</div>"
      ],
      "text/plain": [
       "   Index Product\n",
       "0      5       F\n",
       "1      4       E\n",
       "2      3       D\n",
       "3      2       C\n",
       "4      1       B"
      ]
     },
     "execution_count": 107,
     "metadata": {},
     "output_type": "execute_result"
    }
   ],
   "source": [
    "rec_items(152, product_train, user_vecs, item_vecs, customers_arr, products_arr, item_lookup, num_items=5)"
   ]
  },
  {
   "cell_type": "markdown",
   "metadata": {},
   "source": [
    "# Get the original purchases for each altered client"
   ]
  },
  {
   "cell_type": "code",
   "execution_count": 164,
   "metadata": {},
   "outputs": [],
   "source": [
    "def get_purchases(alt_clients):\n",
    "    \"\"\" This function returns the purchases made by the altered clients.\n",
    "    \n",
    "    Args:\n",
    "        alt_clients:: the list of clients whose purchases were masked in the training data\n",
    "    Returns:\n",
    "        a list of lists containing the actual purchases made by the altered clients\n",
    "    \"\"\"\n",
    "    \n",
    "    original_purchases = []\n",
    "    for i in alt_clients:\n",
    "        i = customers[i]\n",
    "        original_purchases.append(list(df_items.loc[df_items['Client_Id'] == i]['Category']))\n",
    "        \n",
    "    return original_purchases"
   ]
  },
  {
   "cell_type": "code",
   "execution_count": 165,
   "metadata": {},
   "outputs": [],
   "source": [
    "purchases = get_purchases(product_users_altered)"
   ]
  },
  {
   "cell_type": "markdown",
   "metadata": {},
   "source": [
    "# Get the recommended products for each altered client"
   ]
  },
  {
   "cell_type": "code",
   "execution_count": 166,
   "metadata": {},
   "outputs": [],
   "source": [
    "def get_recommendations(alt_clients):\n",
    "    \"\"\" This function returns a list of lists of the recommended products for the altered users.\n",
    "    \n",
    "    Args:\n",
    "        alt_clients:: the list of clients whose purchases were masked in the training data\n",
    "    Returns:\n",
    "        a list of lists containing the recommendations for each altered user\n",
    "    \"\"\"\n",
    "    \n",
    "\n",
    "    recommendation_list = []\n",
    "    for i in alt_clients:\n",
    "        client = customers[i]\n",
    "        items = rec_items(client, product_train, user_vecs, item_vecs, customers_arr, products_arr, item_lookup, num_items=5)\n",
    "        recommendation_list.append(list(items['Product']))\n",
    "        \n",
    "        \n",
    "    return recommendation_list"
   ]
  },
  {
   "cell_type": "code",
   "execution_count": 167,
   "metadata": {},
   "outputs": [],
   "source": [
    "recs = get_recommendations(product_users_altered)"
   ]
  },
  {
   "cell_type": "code",
   "execution_count": 168,
   "metadata": {},
   "outputs": [],
   "source": [
    "def encode_recs(alt_clients, purchases, recommendations):\n",
    "    \"\"\" This function creates an encoding for each recommendation made to an altered client,\n",
    "    where a \"1\" indicates the recommendation was relevant (product that the client did indeed purchase)\n",
    "    and \"0\" if the recommendation was not relevant (product not actually purchased by client).\n",
    "    \n",
    "    Args:\n",
    "        alt_clients:: the list of clients whose purchases were masked in the training data\n",
    "        purchases:: a list of lists containing purchases made by each altered client\n",
    "        recommendations:: a list of lists containing the recommendation for each altered client\n",
    "    Returns:\n",
    "        a list of lists containing whether or not recommendations were relevant to the clients\n",
    "    \"\"\"\n",
    "    \n",
    "    indicator_vec = []\n",
    "    final_indicator_vec=[]\n",
    "    for i in range(len(alt_clients)): \n",
    "        for rec in recommendations[i]: # for each recommendation for the client\n",
    "            if rec in purchases[i]: # if the client actually purchased that item\n",
    "                indicator_vec.append(1)\n",
    "            else:\n",
    "                indicator_vec.append(0)\n",
    "    \n",
    "    for s in range(len(indicator_vec)):\n",
    "        if s%5 == 0 :\n",
    "            each_list = list(indicator_vec[s:s+5])\n",
    "            final_indicator_vec.append(each_list)\n",
    "        else:\n",
    "            pass\n",
    "                \n",
    "    return final_indicator_vec"
   ]
  },
  {
   "cell_type": "code",
   "execution_count": 169,
   "metadata": {},
   "outputs": [],
   "source": [
    "rec_vec = encode_recs(product_users_altered, purchases, recs)"
   ]
  },
  {
   "cell_type": "markdown",
   "metadata": {},
   "source": [
    "# Get mean average precision"
   ]
  },
  {
   "cell_type": "code",
   "execution_count": 170,
   "metadata": {},
   "outputs": [],
   "source": [
    "def removed(items, original_list, only_duplicates=False, inplace=False):\n",
    "    \"\"\"This function by default removes given items from original_list and returns\n",
    "    a new list. Optionally only removes duplicates of `items` or modifies\n",
    "    given list in place.\n",
    "    \"\"\"\n",
    "    if not hasattr(items, '_iter_') or isinstance(items, str):\n",
    "        items = [items]\n",
    "\n",
    "    if only_duplicates:\n",
    "        result = []\n",
    "        for item in original_list:\n",
    "            if item not in items or item not in result:\n",
    "                result.append(item)\n",
    "    else:\n",
    "        result = [item for item in original_list if item not in items]\n",
    "\n",
    "    if inplace:\n",
    "        original_list[:] = result\n",
    "    else:\n",
    "        return result"
   ]
  },
  {
   "cell_type": "code",
   "execution_count": 171,
   "metadata": {},
   "outputs": [],
   "source": [
    "def get_average_precision(encoded_vecs):\n",
    "    \"\"\" This function returns the average precision at k=5.\n",
    "    \n",
    "    Args:\n",
    "        encoded_vecs:: a list of lists containing whether or not recommendations were relevant to the clients\n",
    "    Returns:\n",
    "        a list of lists containing the mean average precision at k=5\n",
    "    \"\"\"\n",
    "    precision = []\n",
    "    for l in range(len(encoded_vecs)):\n",
    "        lst = encoded_vecs[l]\n",
    "        for indx, rec in enumerate(lst):\n",
    "            precision.append(sum(lst[:indx+1])/(indx+1))\n",
    "\n",
    "    # break up the list per client (5 recommendations per client)       \n",
    "    final_precision = []\n",
    "    for i in range(len(precision)):\n",
    "        if i%5 == 0 :\n",
    "            p = list(precision[i:i+5])\n",
    "            final_precision.append(p)\n",
    "        else:\n",
    "            pass\n",
    "        \n",
    "        \n",
    "    relevant_precs = []\n",
    "    for i in final_precision:\n",
    "        i = removed(0, i) # remove precision of zero from the list\n",
    "        relevant_precs.append(i)\n",
    "    \n",
    "    relevant_precs = np.array(relevant_precs)\n",
    "    avg_precs = []\n",
    "    for row in relevant_precs:\n",
    "        avg_precs.append(np.mean(row))\n",
    "        \n",
    "    # convert nans to 0\n",
    "    avg_precs = np.array(avg_precs)\n",
    "    avg_precs = np.nan_to_num(avg_precs)\n",
    "    \n",
    "    # find the mean average precision\n",
    "    mean_avg_precs = np.mean(avg_precs)\n",
    "        \n",
    "    return mean_avg_precs"
   ]
  },
  {
   "cell_type": "code",
   "execution_count": 172,
   "metadata": {},
   "outputs": [
    {
     "name": "stderr",
     "output_type": "stream",
     "text": [
      "/anaconda3/lib/python3.6/site-packages/numpy/core/fromnumeric.py:2920: RuntimeWarning: Mean of empty slice.\n",
      "  out=out, **kwargs)\n",
      "/anaconda3/lib/python3.6/site-packages/numpy/core/_methods.py:85: RuntimeWarning: invalid value encountered in double_scalars\n",
      "  ret = ret.dtype.type(ret / rcount)\n"
     ]
    },
    {
     "data": {
      "text/plain": [
       "42.13"
      ]
     },
     "execution_count": 172,
     "metadata": {},
     "output_type": "execute_result"
    }
   ],
   "source": [
    "maps = round(get_average_precision(rec_vec)*100, 2)\n",
    "maps"
   ]
  },
  {
   "cell_type": "markdown",
   "metadata": {},
   "source": [
    "# Make plot of average precision for each cluster"
   ]
  },
  {
   "cell_type": "code",
   "execution_count": 274,
   "metadata": {},
   "outputs": [
    {
     "data": {
      "image/png": "[encoded data removed]",
      "text/plain": [
       "<Figure size 1440x576 with 1 Axes>"
      ]
     },
     "metadata": {},
     "output_type": "display_data"
    }
   ],
   "source": [
    "plt.figure(figsize=(20,8))\n",
    "\n",
    "groups = [\"Group 1\", \"Group 2\", \"Group 3\", \"Group 4\", \"Group 5\", \"Group 6\"]\n",
    "maps = [35.9, 50.68, 31.43, 46.54, 33.89, 42.13] # mean average precisions\n",
    "\n",
    "sns.set()\n",
    "ax = sns.scatterplot(groups, maps, s=150)\n",
    "\n",
    "plt.ylabel('Mean Average Precision', fontsize= 24)\n",
    "plt.xlabel('Group', fontsize= 24)\n",
    "plt.title('MAP@5 for the 6 Groups', fontsize= 24)\n",
    "\n",
    "plt.xticks(fontsize=20)\n",
    "plt.yticks(fontsize=20)\n",
    "\n",
    "ax.text(0.1, 36.1, \"35.9%\", transform=ax.transData, fontsize=20)\n",
    "ax.text(1.1, 49.8, \"50.7%\", transform=ax.transData, fontsize=20)\n",
    "ax.text(2.1, 31.6, \"31.4%\", transform=ax.transData, fontsize=20)\n",
    "ax.text(3.1, 46, \"46.5%\", transform=ax.transData, fontsize=20)\n",
    "ax.text(4.1, 33, \"33.9%\", transform=ax.transData, fontsize=20)\n",
    "ax.text(4.95, 43, \"42.1%\", transform=ax.transData, fontsize=20)\n",
    "\n",
    "\n",
    "plt.savefig('mean_avg_precision.png')\n",
    "plt.show()"
   ]
  },
  {
   "cell_type": "code",
   "execution_count": null,
   "metadata": {},
   "outputs": [],
   "source": []
  }
 ],
 "metadata": {
  "kernelspec": {
   "display_name": "Python 3",
   "language": "python",
   "name": "python3"
  },
  "language_info": {
   "codemirror_mode": {
    "name": "ipython",
    "version": 3
   },
   "file_extension": ".py",
   "mimetype": "text/x-python",
   "name": "python",
   "nbconvert_exporter": "python",
   "pygments_lexer": "ipython3",
   "version": "3.7.4"
  },
  "toc": {
   "base_numbering": 1,
   "nav_menu": {},
   "number_sections": true,
   "sideBar": true,
   "skip_h1_title": false,
   "title_cell": "Table of Contents",
   "title_sidebar": "Contents",
   "toc_cell": false,
   "toc_position": {},
   "toc_section_display": true,
   "toc_window_display": false
  }
 },
 "nbformat": 4,
 "nbformat_minor": 4
}
